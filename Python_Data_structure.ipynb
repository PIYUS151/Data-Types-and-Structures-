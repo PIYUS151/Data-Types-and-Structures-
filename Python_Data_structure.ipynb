{
  "nbformat": 4,
  "nbformat_minor": 0,
  "metadata": {
    "colab": {
      "provenance": []
    },
    "kernelspec": {
      "name": "python3",
      "display_name": "Python 3"
    },
    "language_info": {
      "name": "python"
    }
  },
  "cells": [
    {
      "cell_type": "markdown",
      "source": [
        "#  Data types and Satructures Questions"
      ],
      "metadata": {
        "id": "1uMK_jdwZFa4"
      }
    },
    {
      "cell_type": "markdown",
      "source": [
        "**1.  What are data structures, and why are they important?**\n",
        "   \n",
        "  ->Data structures are organizational formats to store and manage data efficiently. Examples include arrays, linked lists, stacks, and queues. They are crucial for efficient data processing, enabling tasks like searching, sorting, and manipulating data in minimal time.\n",
        "\n",
        "  Organization\n",
        "\n",
        "  Data structures organize data into a format that makes it easier for users and systems to work with. For example, a library's shelves are data structures that organize books into sections like fiction and non-fiction.\n",
        "\n",
        "   Access\n",
        "\n",
        "  Data structures make it easier to access data when needed. For example, a binary search tree is faster than an unsorted list for searching data frequently.\n",
        "\n",
        "   Operations\n",
        "\n",
        "  Data structures enable higher-level data operations like sorting, searching, insertion, and deletion.\n",
        "\n",
        "  Reuse\n",
        "\n",
        "  Abstract and modular data structures can be reused and extended for different purposes."
      ],
      "metadata": {
        "id": "TUs5k2jbZpuO"
      }
    },
    {
      "cell_type": "markdown",
      "source": [
        "**2.  Explain the difference between mutable and immutable data types with examples?**\n",
        "\n",
        "   ->In programming, the difference between mutable and immutable data types is that mutable data types can be changed after they are created, while immutable data types cannot:\n",
        "\n",
        "   **Mutable data types**\n",
        "\n",
        "   These data types can be changed after they are created. Examples of mutable data types in Python include lists, dictionaries, and sets.\n",
        "\n",
        "   These data types can be changed after they are created. Examples of mutable data types in Python include lists, dictionaries, and sets.\n",
        "\n",
        "   **Immutable data types**\n",
        "\n",
        "   These data types cannot be changed once they are created. Examples of immutable data types in Python include strings and tuples.\n",
        "\n",
        "   (e.g., tuples: (1, 2, 3) remains fixed)."
      ],
      "metadata": {
        "id": "AgPl9VvkakBc"
      }
    },
    {
      "cell_type": "markdown",
      "source": [
        "**3.  What are the main differences between lists and tuples in Python?**\n",
        "\n",
        "   ->The main differences between lists and tuples in Python are:\n",
        "\n",
        "**Mutability**: Lists are mutable, meaning you can change their elements after creation, while tuples are immutable, meaning you can't change their elements.\n",
        "\n",
        "**Size**: Lists can have a variable size, while tuples have a fixed size.\n",
        "\n",
        "\n",
        "**Performance**: Tuples are generally faster than lists because they are immutable and static.\n",
        "\n",
        "**Use cases**: Lists are used for data that needs to be changed frequently, while tuples are used for data that doesn't need to be changed frequently.\n",
        "\n",
        "**Built-in methods**: Lists have more built-in methods than tuples.\n",
        "\n",
        "**Error-proneness**: List operations are more error-prone than tuple operations.\n",
        "\n",
        "**Memory consumption**: Tuples consume less memory than lists.\n",
        "\n",
        "**Iteration**: Tuple iteration is less time-consuming than list iteration.\n",
        "\n",
        "**Operations**: Lists are helpful for deletion and insertion operations, while tuples are helpful for read-only operations."
      ],
      "metadata": {
        "id": "Vr2knreHena0"
      }
    },
    {
      "cell_type": "markdown",
      "source": [
        "**4.  Describe how dictionaries store data?**\n",
        "\n",
        "   ->Dictionaries store data as key-value pairs in a hash table, allowing fast access using unique keys.\n",
        "\n"
      ],
      "metadata": {
        "id": "rbFAkJx-fbU0"
      }
    },
    {
      "cell_type": "markdown",
      "source": [
        "**5.  Why might you use a set instead of a list in Python?**\n",
        "\n",
        "   ->Sets automatically remove duplicates and support fast membership tests due to their hash-based implementation.\n",
        "\n"
      ],
      "metadata": {
        "id": "GBiQYYIxf9ms"
      }
    },
    {
      "cell_type": "markdown",
      "source": [
        "**6.  What is a string in Python, and how is it different from a list?**\n",
        "\n",
        "   ->Strings are sequences of characters, immutable, and homogeneous (only characters). Lists are mutable and can hold multiple data types."
      ],
      "metadata": {
        "id": "Rs3bVAJUf9jT"
      }
    },
    {
      "cell_type": "markdown",
      "source": [
        "**7.  How do tuples ensure data integrity in Python?**\n",
        "\n",
        "   ->Tuples are immutable, preventing accidental changes and ensuring data consistency.\n",
        "\n",
        "   Tuples are immutable to ensure that their contents remain constant throughout their lifecycle, guaranteeing data integrity and reliability. This immutability allows tuples to be used as keys in dictionaries and elements in sets, as they can be hashed."
      ],
      "metadata": {
        "id": "RsyTkyEqf9gp"
      }
    },
    {
      "cell_type": "markdown",
      "source": [
        "**8.  What is a hash table, and how does it relate to dictionaries in Python?**\n",
        "\n",
        "   ->A hash table is a data structure that maps keys to values using a hash function. Python dictionaries are implemented as hash tables, providing average O(1) time complexity for lookups."
      ],
      "metadata": {
        "id": "wIihADr-f9d0"
      }
    },
    {
      "cell_type": "markdown",
      "source": [
        "**9.  Can lists contain different data types in Python?**\n",
        "\n",
        "   ->Yes, Python lists are heterogeneous and can store elements of different data types,\n",
        "   \n",
        "   such as [1, \"hello\", 3.5]."
      ],
      "metadata": {
        "id": "UWaerJ_bf9a9"
      }
    },
    {
      "cell_type": "markdown",
      "source": [
        "**10.  Explain why strings are immutable in Python?**\n",
        "\n",
        "   ->Strings are immutable for security and performance reasons. This prevents accidental modifications and optimizes memory by reusing existing strings."
      ],
      "metadata": {
        "id": "1d3r0Cbvf9WP"
      }
    },
    {
      "cell_type": "markdown",
      "source": [
        "**11.  What advantages do dictionaries offer over lists for certain task?**\n",
        "\n",
        "   ->Dictionaries provide O(1) average lookup time using keys, making them superior for tasks requiring key-value mappings and quick data access.\n",
        "\n",
        "  **Fast lookups**\n",
        "\n",
        "   Dictionaries use a hash table to store key-value pairs, which allows for very fast lookups. This makes them ideal for tasks that require frequent lookups or searches.\n",
        "\n",
        "**Easy to read**\n",
        "\n",
        "   Dictionaries make code much easier to read if you need to generate key:value pairs.\n",
        "\n",
        "**Memory efficient**\n",
        "\n",
        "Dictionaries are memory efficient, as they only store the key-value pairs you need.\n",
        "\n",
        "**Store complex data structures**\n",
        "\n",
        "Dictionaries can store any type of data as both the key and the value, making them well-suited to storing complex data structures such as graphs and databases."
      ],
      "metadata": {
        "id": "2kbhKmWSf9Bs"
      }
    },
    {
      "cell_type": "markdown",
      "source": [
        "**12.  Describe a scenario where using a tuple would be preferable over a list.**\n",
        "\n",
        "  ->Use tuples for fixed configurations, like storing coordinates (x, y) or days of the week, where immutability ensures integrity.\n",
        "\n",
        "  Use a tuple if you need an immutable collection where the elements won't change after creation. Tuples are generally faster and more memory-efficient than lists, making them better for fixed collections, especially as dictionary keys or when iteration speed is crucial."
      ],
      "metadata": {
        "id": "3vkIji2LiFEv"
      }
    },
    {
      "cell_type": "markdown",
      "source": [
        "**13.  How do sets handle duplicate values in Python?**\n",
        "\n",
        "   ->Sets automatically remove duplicate values when elements are added, ensuring all elements are unique."
      ],
      "metadata": {
        "id": "HMkmOq2RiE-L"
      }
    },
    {
      "cell_type": "markdown",
      "source": [
        "**14.  How does the “in” keyword work differently for lists and dictionaries?**\n",
        "\n",
        "   ->In lists, in checks for element presence (e.g., 5 in [1, 5, 3]). In dictionaries, it checks for key presence (e.g., \"key\" in {\"key\": \"value\"})."
      ],
      "metadata": {
        "id": "lRAC-ixiiE3n"
      }
    },
    {
      "cell_type": "markdown",
      "source": [
        "**15.  Can you modify the elements of a tuple? Explain why or why not?**\n",
        "\n",
        "   ->No, tuples are immutable. Once created, their elements cannot be changed, ensuring fixed data structures."
      ],
      "metadata": {
        "id": "9Vf9U75LiEwz"
      }
    },
    {
      "cell_type": "markdown",
      "source": [
        "**16.  What is a nested dictionary, and give an example of its use case?**\n",
        "\n",
        "   ->A nested dictionary contains dictionaries as values. Example: {'student1': {'name': 'Alice', 'grade': 'A'}, 'student2': {'name': 'Bob', 'grade': 'B'}}. Useful in hierarchical data like storing students’ details."
      ],
      "metadata": {
        "id": "avNoi6K0iEqN"
      }
    },
    {
      "cell_type": "markdown",
      "source": [
        "**17.   Describe the time complexity of accessing elements in a dictionar?**\n",
        "\n",
        "   ->Accessing elements in a dictionary has an average time complexity of O(1) due to its hash table implementation."
      ],
      "metadata": {
        "id": "1ubff6KviEjP"
      }
    },
    {
      "cell_type": "markdown",
      "source": [
        "**18.  In what situations are lists preferred over dictionaries?**\n",
        "\n",
        "   ->Use lists when order matters, or for sequential data without key-value relationships."
      ],
      "metadata": {
        "id": "gpki0M36iEce"
      }
    },
    {
      "cell_type": "markdown",
      "source": [
        "**19.  Why are dictionaries considered unordered, and how does that affect data retrieval?**\n",
        "\n",
        "   ->Dictionaries prior to Python 3.7 were unordered, meaning elements had no guaranteed sequence. While retrieval is fast, order wasn’t preserved (this changed in Python 3.7+ where insertion order is maintained)."
      ],
      "metadata": {
        "id": "NcJY_Ub0iEWN"
      }
    },
    {
      "cell_type": "markdown",
      "source": [
        "**20.  Explain the difference between a list and a dictionary in terms of data retrieval?**\n",
        "\n",
        "   ->Lists retrieve elements by index, while dictionaries use keys for access, which is faster and more meaningful for key-value data."
      ],
      "metadata": {
        "id": "osKBEUmTi93T"
      }
    },
    {
      "cell_type": "markdown",
      "source": [
        "# Practical Questions"
      ],
      "metadata": {
        "id": "KL8ctFEBkHcD"
      }
    },
    {
      "cell_type": "code",
      "source": [
        "#1 Create a string with your name and print it:\n",
        "name = \"Piyush Chauhan\"\n",
        "print(name)"
      ],
      "metadata": {
        "colab": {
          "base_uri": "https://localhost:8080/"
        },
        "id": "NDS4WpAGkMgn",
        "outputId": "0046ecd1-db46-479e-d141-b38e322acdea"
      },
      "execution_count": 3,
      "outputs": [
        {
          "output_type": "stream",
          "name": "stdout",
          "text": [
            "Piyush Chauhan\n"
          ]
        }
      ]
    },
    {
      "cell_type": "code",
      "source": [
        "#2 Find the length of the string \"Hello World\":\n",
        "length = len(\"Hello World\")\n",
        "print(length)\n"
      ],
      "metadata": {
        "colab": {
          "base_uri": "https://localhost:8080/"
        },
        "id": "gPTblzY5kki_",
        "outputId": "5bd06085-a262-4f3f-afc3-2cbb237bdbda"
      },
      "execution_count": 4,
      "outputs": [
        {
          "output_type": "stream",
          "name": "stdout",
          "text": [
            "11\n"
          ]
        }
      ]
    },
    {
      "cell_type": "code",
      "source": [
        "#3 Slice the first 3 characters from \"Python Programming\":\n",
        "sliced = \"Python Programming\"[:3]\n",
        "print(sliced)"
      ],
      "metadata": {
        "colab": {
          "base_uri": "https://localhost:8080/"
        },
        "id": "s21iMR1Jk01e",
        "outputId": "6187273c-706e-4721-9977-b6c82555ba2a"
      },
      "execution_count": 5,
      "outputs": [
        {
          "output_type": "stream",
          "name": "stdout",
          "text": [
            "Pyt\n"
          ]
        }
      ]
    },
    {
      "cell_type": "code",
      "source": [
        "#4 Convert the string \"hello\" to uppercase:\n",
        "uppercase = \"hello\".upper()\n",
        "print(uppercase)"
      ],
      "metadata": {
        "colab": {
          "base_uri": "https://localhost:8080/"
        },
        "id": "yVJdddWfk_T4",
        "outputId": "328c3b3e-a9e0-44c8-e1db-e37da99da367"
      },
      "execution_count": 6,
      "outputs": [
        {
          "output_type": "stream",
          "name": "stdout",
          "text": [
            "HELLO\n"
          ]
        }
      ]
    },
    {
      "cell_type": "code",
      "source": [
        "#5 Replace \"apple\" with \"orange\" in \"I like apple\":\n",
        "replaced = \"I like apple\".replace(\"apple\", \"orange\")\n",
        "print(replaced)"
      ],
      "metadata": {
        "colab": {
          "base_uri": "https://localhost:8080/"
        },
        "id": "M3dGKlzUlOLG",
        "outputId": "6188372a-c4f5-4907-9d74-9c78d1f28d6c"
      },
      "execution_count": 8,
      "outputs": [
        {
          "output_type": "stream",
          "name": "stdout",
          "text": [
            "I like orange\n"
          ]
        }
      ]
    },
    {
      "cell_type": "code",
      "source": [
        "#6 Create a list with numbers 1 to 5 and print it:\n",
        "numbers = [1, 2, 3, 4, 5]\n",
        "print(numbers)"
      ],
      "metadata": {
        "colab": {
          "base_uri": "https://localhost:8080/"
        },
        "id": "cGXgq4KPlaQj",
        "outputId": "feb812ed-4b88-42d7-9cd4-544430d2c6af"
      },
      "execution_count": 9,
      "outputs": [
        {
          "output_type": "stream",
          "name": "stdout",
          "text": [
            "[1, 2, 3, 4, 5]\n"
          ]
        }
      ]
    },
    {
      "cell_type": "code",
      "source": [
        "#7 Append the number 10 to [1, 2, 3, 4]:\n",
        "lst = [1, 2, 3, 4]\n",
        "lst.append(10)\n",
        "print(lst)"
      ],
      "metadata": {
        "colab": {
          "base_uri": "https://localhost:8080/"
        },
        "id": "OE8acnJzlhb0",
        "outputId": "00761564-92c3-4772-d47d-80b3273e4c54"
      },
      "execution_count": 10,
      "outputs": [
        {
          "output_type": "stream",
          "name": "stdout",
          "text": [
            "[1, 2, 3, 4, 10]\n"
          ]
        }
      ]
    },
    {
      "cell_type": "code",
      "source": [
        "#8 Remove the number 3 from [1, 2, 3, 4, 5]:\n",
        "lst = [1, 2, 3, 4, 5]\n",
        "lst.remove(3)\n",
        "print(lst)"
      ],
      "metadata": {
        "colab": {
          "base_uri": "https://localhost:8080/"
        },
        "id": "wvQwZ1CQloxd",
        "outputId": "7ba5e077-0d96-49d3-8d28-8e742a075173"
      },
      "execution_count": 11,
      "outputs": [
        {
          "output_type": "stream",
          "name": "stdout",
          "text": [
            "[1, 2, 4, 5]\n"
          ]
        }
      ]
    },
    {
      "cell_type": "code",
      "source": [
        "#9 Access the second element in ['a', 'b', 'c', 'd']:\n",
        "lst = ['a', 'b', 'c', 'd']\n",
        "print(lst[1])"
      ],
      "metadata": {
        "colab": {
          "base_uri": "https://localhost:8080/"
        },
        "id": "2CQG5wZnlvL6",
        "outputId": "c5d0f4d9-8ea4-4fe5-e13a-b15c50d63450"
      },
      "execution_count": 12,
      "outputs": [
        {
          "output_type": "stream",
          "name": "stdout",
          "text": [
            "b\n"
          ]
        }
      ]
    },
    {
      "cell_type": "code",
      "source": [
        "#10 Reverse the list [10, 20, 30, 40, 50]:\n",
        "lst = [10, 20, 30, 40, 50]\n",
        "lst.reverse()\n",
        "print(lst)"
      ],
      "metadata": {
        "colab": {
          "base_uri": "https://localhost:8080/"
        },
        "id": "Yk30d3Cjl2kj",
        "outputId": "c3c39eb4-f432-4916-a2b7-cab6697bcb16"
      },
      "execution_count": 13,
      "outputs": [
        {
          "output_type": "stream",
          "name": "stdout",
          "text": [
            "[50, 40, 30, 20, 10]\n"
          ]
        }
      ]
    },
    {
      "cell_type": "code",
      "source": [
        "#11  Create a tuple with elements 10, 20, 30 and print it:\n",
        "tup = (10, 20, 30)\n",
        "print(tup)"
      ],
      "metadata": {
        "colab": {
          "base_uri": "https://localhost:8080/"
        },
        "id": "ujuGcK0gl-oh",
        "outputId": "1a72c610-1da7-42db-c1d0-b445888e6d65"
      },
      "execution_count": 14,
      "outputs": [
        {
          "output_type": "stream",
          "name": "stdout",
          "text": [
            "(10, 20, 30)\n"
          ]
        }
      ]
    },
    {
      "cell_type": "code",
      "source": [
        "#12 Access the first element of ('apple', 'banana', 'cherry'):\n",
        "tup = ('apple', 'banana', 'cherry')\n",
        "print(tup[0])"
      ],
      "metadata": {
        "colab": {
          "base_uri": "https://localhost:8080/"
        },
        "id": "0APkSvSpmGXK",
        "outputId": "47406728-7cc4-404d-c959-686b1bca085a"
      },
      "execution_count": 15,
      "outputs": [
        {
          "output_type": "stream",
          "name": "stdout",
          "text": [
            "apple\n"
          ]
        }
      ]
    },
    {
      "cell_type": "code",
      "source": [
        "#13 Count occurrences of 2 in (1, 2, 3, 2, 4, 2):\n",
        "tup = (1, 2, 3, 2, 4, 2)\n",
        "print(tup.count(2))"
      ],
      "metadata": {
        "colab": {
          "base_uri": "https://localhost:8080/"
        },
        "id": "wD4Aj1eYmOvq",
        "outputId": "48b4bed0-6f84-4a04-eada-649c2252f51a"
      },
      "execution_count": 16,
      "outputs": [
        {
          "output_type": "stream",
          "name": "stdout",
          "text": [
            "3\n"
          ]
        }
      ]
    },
    {
      "cell_type": "code",
      "source": [
        "#14 Find the index of \"cat\" in ('dog', 'cat', 'rabbit'):\n",
        "tup = ('dog', 'cat', 'rabbit')\n",
        "print(tup.index(\"cat\"))"
      ],
      "metadata": {
        "colab": {
          "base_uri": "https://localhost:8080/"
        },
        "id": "VXxYyuXjmU6x",
        "outputId": "c010433f-579a-4f52-b3f5-1bbd17c5e13e"
      },
      "execution_count": 17,
      "outputs": [
        {
          "output_type": "stream",
          "name": "stdout",
          "text": [
            "1\n"
          ]
        }
      ]
    },
    {
      "cell_type": "code",
      "source": [
        "#15 Check if \"banana\" is in ('apple', 'orange', 'banana'):\n",
        "tup = ('apple', 'orange', 'banana')\n",
        "print(\"banana\" in tup)"
      ],
      "metadata": {
        "colab": {
          "base_uri": "https://localhost:8080/"
        },
        "id": "Y3oPHJe2mcjL",
        "outputId": "2aeca644-8dba-4ee4-cfff-fbb35ca65b9d"
      },
      "execution_count": 18,
      "outputs": [
        {
          "output_type": "stream",
          "name": "stdout",
          "text": [
            "True\n"
          ]
        }
      ]
    },
    {
      "cell_type": "code",
      "source": [
        "#16 Create a set with elements 1, 2, 3, 4, 5 and print it:\n",
        "s = {1, 2, 3, 4, 5}\n",
        "print(s)"
      ],
      "metadata": {
        "colab": {
          "base_uri": "https://localhost:8080/"
        },
        "id": "7Kj4JlacmjC5",
        "outputId": "ce9deab6-1964-4ca9-d4ac-599d8642c4f9"
      },
      "execution_count": 19,
      "outputs": [
        {
          "output_type": "stream",
          "name": "stdout",
          "text": [
            "{1, 2, 3, 4, 5}\n"
          ]
        }
      ]
    },
    {
      "cell_type": "code",
      "source": [
        "#17 Add 6 to {1, 2, 3, 4}:\n",
        "s = {1, 2, 3, 4}\n",
        "s.add(6)\n",
        "print(s)"
      ],
      "metadata": {
        "colab": {
          "base_uri": "https://localhost:8080/"
        },
        "id": "Bin4-DHJmqpV",
        "outputId": "07b6ce5a-2999-4afa-8b71-27c85e513931"
      },
      "execution_count": 20,
      "outputs": [
        {
          "output_type": "stream",
          "name": "stdout",
          "text": [
            "{1, 2, 3, 4, 6}\n"
          ]
        }
      ]
    },
    {
      "cell_type": "code",
      "source": [],
      "metadata": {
        "id": "c1tISSXqmvWM"
      },
      "execution_count": null,
      "outputs": []
    }
  ]
}